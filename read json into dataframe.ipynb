{
 "cells": [
  {
   "cell_type": "markdown",
   "metadata": {},
   "source": [
    "Import required packages"
   ]
  },
  {
   "cell_type": "code",
   "execution_count": 4,
   "metadata": {},
   "outputs": [],
   "source": [
    "import pandas as pd\n",
    "import numpy as np\n",
    "from geopy.geocoders import Nominatim\n",
    "from geopy import distance\n",
    "import folium\n",
    "import requests\n",
    "from sklearn import linear_model\n",
    "from sklearn.model_selection import train_test_split\n",
    "import matplotlib.pyplot as plt"
   ]
  },
  {
   "cell_type": "markdown",
   "metadata": {},
   "source": [
    "Import Foursquare credentials from json file created to preserve secrecy and store in global variables CLIENT_ID and CLIENT_SECRET"
   ]
  },
  {
   "cell_type": "code",
   "execution_count": 5,
   "metadata": {},
   "outputs": [],
   "source": [
    "import json\n",
    "globals().update(json.loads(open(\"foursquareCredentials.json\", \"r\") .read()))\n",
    "VERSION = '20181124' # Foursquare API version"
   ]
  },
  {
   "cell_type": "markdown",
   "metadata": {},
   "source": [
    "## Input the variables that define the problem\n",
    "Get longitude and latitude of location where we want to open a new business"
   ]
  },
  {
   "cell_type": "code",
   "execution_count": 6,
   "metadata": {},
   "outputs": [],
   "source": [
    "geolocator = Nominatim(user_agent=\"specify_your_app_name_here\")\n",
    "location = geolocator.geocode(\"Rumbach Sebestyén u., Budapest, 1075 Hungary\")\n",
    "#location = geolocator.geocode(\"Galley Ave, Toronto\")\n",
    "#location = geolocator.geocode(\"st dunstans st, canterbury uk\")\n",
    "lat = location.latitude\n",
    "long = location.longitude"
   ]
  },
  {
   "cell_type": "markdown",
   "metadata": {},
   "source": [
    "Populate variables containing the other parameters of the search problem:\n",
    "* categoryId = foursquare categoryId of the business we wish to open. A full list of categories can be found here: https://developer.foursquare.com/docs/resources/categories.\n",
    "* radius = the maximum distance from the location within which we want to open the business in km.\n",
    "* tick = the level of accuracy in km which we want to return for the recommended locations. "
   ]
  },
  {
   "cell_type": "code",
   "execution_count": 7,
   "metadata": {},
   "outputs": [],
   "source": [
    "categoryId = '4bf58dd8d48988d16d941735' # Café\n",
    "radius = 2\n",
    "tick = 0.2"
   ]
  },
  {
   "cell_type": "markdown",
   "metadata": {},
   "source": [
    "## Build function which pulls venue data from Foursquare\n",
    "Define function for pulling list of nearby venues, with optional filter on category Id"
   ]
  },
  {
   "cell_type": "code",
   "execution_count": 19,
   "metadata": {},
   "outputs": [
    {
     "ename": "TypeError",
     "evalue": "the JSON object must be str, bytes or bytearray, not 'list'",
     "output_type": "error",
     "traceback": [
      "\u001b[1;31m---------------------------------------------------------------------------\u001b[0m",
      "\u001b[1;31mTypeError\u001b[0m                                 Traceback (most recent call last)",
      "\u001b[1;32m<ipython-input-19-cec8040a48c7>\u001b[0m in \u001b[0;36m<module>\u001b[1;34m()\u001b[0m\n\u001b[0;32m      2\u001b[0m \u001b[0mapiCall\u001b[0m \u001b[1;33m=\u001b[0m \u001b[0murl\u001b[0m\u001b[1;33m.\u001b[0m\u001b[0mformat\u001b[0m\u001b[1;33m(\u001b[0m\u001b[0mCLIENT_ID\u001b[0m\u001b[1;33m,\u001b[0m \u001b[0mCLIENT_SECRET\u001b[0m\u001b[1;33m,\u001b[0m \u001b[0mVERSION\u001b[0m\u001b[1;33m,\u001b[0m \u001b[0mlat\u001b[0m\u001b[1;33m,\u001b[0m \u001b[0mlong\u001b[0m\u001b[1;33m,\u001b[0m \u001b[0mradius\u001b[0m\u001b[1;33m,\u001b[0m \u001b[0mcategoryId\u001b[0m\u001b[1;33m)\u001b[0m\u001b[1;33m\u001b[0m\u001b[0m\n\u001b[0;32m      3\u001b[0m \u001b[0mvenues\u001b[0m \u001b[1;33m=\u001b[0m \u001b[0mrequests\u001b[0m\u001b[1;33m.\u001b[0m\u001b[0mget\u001b[0m\u001b[1;33m(\u001b[0m\u001b[0mapiCall\u001b[0m\u001b[1;33m)\u001b[0m\u001b[1;33m.\u001b[0m\u001b[0mjson\u001b[0m\u001b[1;33m(\u001b[0m\u001b[1;33m)\u001b[0m\u001b[1;33m[\u001b[0m\u001b[1;34m'response'\u001b[0m\u001b[1;33m]\u001b[0m\u001b[1;33m[\u001b[0m\u001b[1;34m'venues'\u001b[0m\u001b[1;33m]\u001b[0m\u001b[1;33m\u001b[0m\u001b[0m\n\u001b[1;32m----> 4\u001b[1;33m \u001b[0mjson\u001b[0m\u001b[1;33m.\u001b[0m\u001b[0mloads\u001b[0m\u001b[1;33m(\u001b[0m\u001b[0mvenues\u001b[0m\u001b[1;33m)\u001b[0m\u001b[1;33m\u001b[0m\u001b[0m\n\u001b[0m",
      "\u001b[1;32m~\\Anaconda3\\lib\\json\\__init__.py\u001b[0m in \u001b[0;36mloads\u001b[1;34m(s, encoding, cls, object_hook, parse_float, parse_int, parse_constant, object_pairs_hook, **kw)\u001b[0m\n\u001b[0;32m    346\u001b[0m         \u001b[1;32mif\u001b[0m \u001b[1;32mnot\u001b[0m \u001b[0misinstance\u001b[0m\u001b[1;33m(\u001b[0m\u001b[0ms\u001b[0m\u001b[1;33m,\u001b[0m \u001b[1;33m(\u001b[0m\u001b[0mbytes\u001b[0m\u001b[1;33m,\u001b[0m \u001b[0mbytearray\u001b[0m\u001b[1;33m)\u001b[0m\u001b[1;33m)\u001b[0m\u001b[1;33m:\u001b[0m\u001b[1;33m\u001b[0m\u001b[0m\n\u001b[0;32m    347\u001b[0m             raise TypeError('the JSON object must be str, bytes or bytearray, '\n\u001b[1;32m--> 348\u001b[1;33m                             'not {!r}'.format(s.__class__.__name__))\n\u001b[0m\u001b[0;32m    349\u001b[0m         \u001b[0ms\u001b[0m \u001b[1;33m=\u001b[0m \u001b[0ms\u001b[0m\u001b[1;33m.\u001b[0m\u001b[0mdecode\u001b[0m\u001b[1;33m(\u001b[0m\u001b[0mdetect_encoding\u001b[0m\u001b[1;33m(\u001b[0m\u001b[0ms\u001b[0m\u001b[1;33m)\u001b[0m\u001b[1;33m,\u001b[0m \u001b[1;34m'surrogatepass'\u001b[0m\u001b[1;33m)\u001b[0m\u001b[1;33m\u001b[0m\u001b[0m\n\u001b[0;32m    350\u001b[0m \u001b[1;33m\u001b[0m\u001b[0m\n",
      "\u001b[1;31mTypeError\u001b[0m: the JSON object must be str, bytes or bytearray, not 'list'"
     ]
    }
   ],
   "source": [
    "url = 'https://api.foursquare.com/v2/venues/search?&client_id={}&client_secret={}&v={}&intent=browse&ll={},{}&radius={}&categoryId={}'\n",
    "apiCall = url.format(CLIENT_ID, CLIENT_SECRET, VERSION, lat, long, radius, categoryId)\n",
    "venues = requests.get(apiCall).json()['response']['venues']\n",
    "json.loads(venues)"
   ]
  },
  {
   "cell_type": "code",
   "execution_count": 8,
   "metadata": {},
   "outputs": [],
   "source": [
    "url = 'https://api.foursquare.com/v2/venues/search?&client_id={}&client_secret={}&v={}&intent=browse&ll={},{}&radius={}&categoryId={}'\n",
    "def getNearbyVenues(lat, long, radius, categoryId = ''):\n",
    "    apiCall = url.format(CLIENT_ID, CLIENT_SECRET, VERSION, lat, long, radius, categoryId)\n",
    "    venues = requests.get(apiCall).json()['response']['venues']\n",
    "    venues_list=[]\n",
    "    \n",
    "    for v in venues:\n",
    "        if len(v['categories']) > 0:\n",
    "            venues_list.append([v['id'], v['name'], v['location']['distance'], v['categories'][0]['name']])\n",
    "        else:\n",
    "            venues_list.append([v['id'], v['name'], v['location']['distance'], 'None'])\n",
    "    \n",
    "    return(venues_list)"
   ]
  },
  {
   "cell_type": "markdown",
   "metadata": {},
   "source": [
    "Check function getNearbyVenues is working"
   ]
  },
  {
   "cell_type": "code",
   "execution_count": 9,
   "metadata": {
    "scrolled": true
   },
   "outputs": [
    {
     "data": {
      "text/plain": [
       "[['510c25ede4b0a3ee4308e94a', 'Központ', 188, 'Café'],\n",
       " ['4c9ce18c542b224bbaade49f', 'Drum Cafe', 100, 'Café'],\n",
       " ['52054dd511d2778ebd4f1cf3', 'Blue Bird Cafe', 171, 'Café'],\n",
       " ['514d9e95e4b01bb2769654a3', 'Solinfo', 67, 'Café'],\n",
       " ['4c8e63f5a8de224be0182701', 'Café Vian', 182, 'French Restaurant'],\n",
       " ['5b9a6c1d1ffe97002c3349c7', 'Fresh Corner Downtown', 187, 'Café'],\n",
       " ['54535798498ef0cd9c592e6e', 'Blue Bird Roastery', 137, 'Café'],\n",
       " ['4b804281f964a520d36130e3', 'Spinoza Café', 87, 'Restaurant'],\n",
       " ['4b99441cf964a520be6e35e3', 'Printa Café', 111, 'Art Gallery'],\n",
       " ['5152e6f0e4b02b6799b2ef78', 'Tom Dixon Cafè & Showroom', 62, 'Café'],\n",
       " ['5bda0a2bb3c961002badd1c6', 'Kárpit Café', 128, 'Café'],\n",
       " ['57c41471498e814e459823ff', 'Blue Bird Cafe', 130, 'Café'],\n",
       " ['4c20cfe93573c9b602ea3515', 'Café Zenit', 148, 'Pub'],\n",
       " ['52495a1e11d224c2f94c5759', 'Alexandra Irodalmi Kávéház', 101, 'Café'],\n",
       " ['52b198d6498e62e5200cc830', 'Hinta Kávézó', 129, 'Café'],\n",
       " ['4e08828bd22d658532ac1d6b', 'Random Point', 187, 'Café'],\n",
       " ['50603c04e4b0fc17306ff5f1', 'Kosher Shop', 124, 'Café'],\n",
       " ['4d78b13e9e57a0932180c72b',\n",
       "  \"Osteria dell' Oca Italian Restaurant & Coffee\",\n",
       "  124,\n",
       "  'Café'],\n",
       " ['582332825c3b582b1122a742', 'Cabbage Coffee', 147, 'Café'],\n",
       " ['57e40319498ea3ce6c18fb5d', 'Jaffa Bisztró', 90, 'Breakfast Spot'],\n",
       " ['4e5e5c65a809fd79d2976f26', 'Bench Café', 159, 'Café'],\n",
       " ['59becd5d135b3922e9cfa9c8', 'benchtails cafe', 109, 'Café'],\n",
       " ['4be951f4c5220f477ca9aaca', 'Nelson Café', 184, 'Café'],\n",
       " ['5a76ed2d91eaca0ec01aebd0', 'My Mamma Mia', 176, 'Restaurant'],\n",
       " ['4e54aa6bfa761d3de83f6c4f', 'Fél Nyolc Kávézó', 137, 'Café']]"
      ]
     },
     "execution_count": 9,
     "metadata": {},
     "output_type": "execute_result"
    }
   ],
   "source": [
    "getNearbyVenues(lat, long, tick * 1000, categoryId)"
   ]
  },
  {
   "cell_type": "markdown",
   "metadata": {},
   "source": [
    "## Build function to calculate density of venues within a specified radius of a location\n",
    "Define function venueDensity which outputs a measure the density of a list of venues within a specific radius of a location.\n",
    "The density measure has the property of being larger the more venues there are in the list and the closer they are.\n",
    "So for each venue we subtract the distance of the venue from the location from the radius.\n",
    "This measure is then summed up for all the venues\n",
    "\n",
    "Worked example, radius = 200m, 2 venues, 1 distance 1m from the location, the other distance 199m:\n",
    "* venue 1 density = 200 - 1 = 199\n",
    "* venue 2 density = 200 - 199 = 1\n",
    "* total density = 199 + 1 = 200"
   ]
  },
  {
   "cell_type": "code",
   "execution_count": 1,
   "metadata": {},
   "outputs": [],
   "source": [
    "def venueDensity(venues, radius):\n",
    "    distances = []\n",
    "    [distances.append(radius - v[2]) for v in venues if v[2] < radius]\n",
    "    return np.sum(np.asarray(distances))"
   ]
  },
  {
   "cell_type": "code",
   "execution_count": 2,
   "metadata": {},
   "outputs": [
    {
     "ename": "NameError",
     "evalue": "name 'getNearbyVenues' is not defined",
     "output_type": "error",
     "traceback": [
      "\u001b[1;31m---------------------------------------------------------------------------\u001b[0m",
      "\u001b[1;31mNameError\u001b[0m                                 Traceback (most recent call last)",
      "\u001b[1;32m<ipython-input-2-a4945299e6fa>\u001b[0m in \u001b[0;36m<module>\u001b[1;34m()\u001b[0m\n\u001b[1;32m----> 1\u001b[1;33m \u001b[0mvenueDensity\u001b[0m\u001b[1;33m(\u001b[0m\u001b[0mgetNearbyVenues\u001b[0m\u001b[1;33m(\u001b[0m\u001b[0mlat\u001b[0m\u001b[1;33m,\u001b[0m \u001b[0mlong\u001b[0m\u001b[1;33m,\u001b[0m \u001b[0mtick\u001b[0m \u001b[1;33m*\u001b[0m \u001b[1;36m1000\u001b[0m\u001b[1;33m,\u001b[0m \u001b[0mcategoryId\u001b[0m\u001b[1;33m)\u001b[0m\u001b[1;33m,\u001b[0m \u001b[0mtick\u001b[0m \u001b[1;33m*\u001b[0m \u001b[1;36m1000\u001b[0m\u001b[1;33m)\u001b[0m\u001b[1;33m\u001b[0m\u001b[0m\n\u001b[0m",
      "\u001b[1;31mNameError\u001b[0m: name 'getNearbyVenues' is not defined"
     ]
    }
   ],
   "source": [
    "venueDensity(getNearbyVenues(lat, long, tick * 1000, categoryId), tick * 1000)"
   ]
  },
  {
   "cell_type": "code",
   "execution_count": 3,
   "metadata": {},
   "outputs": [
    {
     "ename": "NameError",
     "evalue": "name 'tick' is not defined",
     "output_type": "error",
     "traceback": [
      "\u001b[1;31m---------------------------------------------------------------------------\u001b[0m",
      "\u001b[1;31mNameError\u001b[0m                                 Traceback (most recent call last)",
      "\u001b[1;32m<ipython-input-3-8ff690323e28>\u001b[0m in \u001b[0;36m<module>\u001b[1;34m()\u001b[0m\n\u001b[0;32m      1\u001b[0m \u001b[1;31m# Check if density for empty list of venues = 0\u001b[0m\u001b[1;33m\u001b[0m\u001b[1;33m\u001b[0m\u001b[0m\n\u001b[1;32m----> 2\u001b[1;33m \u001b[0mvenueDensity\u001b[0m\u001b[1;33m(\u001b[0m\u001b[1;33m[\u001b[0m\u001b[1;33m]\u001b[0m\u001b[1;33m,\u001b[0m \u001b[0mtick\u001b[0m \u001b[1;33m*\u001b[0m \u001b[1;36m1000\u001b[0m\u001b[1;33m)\u001b[0m\u001b[1;33m\u001b[0m\u001b[0m\n\u001b[0m",
      "\u001b[1;31mNameError\u001b[0m: name 'tick' is not defined"
     ]
    }
   ],
   "source": [
    "# Check if density for empty list of venues = 0\n",
    "venueDensity([], tick * 1000)"
   ]
  },
  {
   "cell_type": "markdown",
   "metadata": {},
   "source": [
    "## Get venue density for each point on the grid around location"
   ]
  },
  {
   "cell_type": "code",
   "execution_count": null,
   "metadata": {},
   "outputs": [],
   "source": [
    "targets = []\n",
    "ids = set()\n",
    "for (lt, lg) in g:\n",
    "    print((lt, lg))\n",
    "    venues = getNearbyVenues(lt, lg, tick * 1000, categoryId)\n",
    "    density = venueDensity(venues, tick * 1000)\n",
    "    targets.append((lt, lg, density))\n",
    "    for (v_id, name, distance, category) in venues:\n",
    "        ids.add(v_id)"
   ]
  },
  {
   "cell_type": "code",
   "execution_count": null,
   "metadata": {},
   "outputs": [],
   "source": []
  },
  {
   "cell_type": "code",
   "execution_count": null,
   "metadata": {},
   "outputs": [],
   "source": [
    "targetsDf = pd.DataFrame(targets)\n",
    "targetsDf.columns = ['Latitude', 'Longitude', 'Density']\n",
    "targetsDf.set_index(['Latitude', 'Longitude'], inplace=True)\n",
    "targetsDf.sort_index(inplace=True)\n",
    "targetsDf"
   ]
  },
  {
   "cell_type": "code",
   "execution_count": null,
   "metadata": {
    "scrolled": true
   },
   "outputs": [],
   "source": [
    "targetsDf.describe()"
   ]
  },
  {
   "cell_type": "code",
   "execution_count": null,
   "metadata": {
    "scrolled": true
   },
   "outputs": [],
   "source": [
    "targetsDf.plot(y='Density', kind='box')\n",
    "plt.ylabel('Density')\n",
    "plt.show()"
   ]
  },
  {
   "cell_type": "code",
   "execution_count": null,
   "metadata": {},
   "outputs": [],
   "source": [
    "targetsDf['Log Density'] = np.log10(targetsDf['Density'].values + 1)"
   ]
  },
  {
   "cell_type": "code",
   "execution_count": null,
   "metadata": {},
   "outputs": [],
   "source": [
    "targetsDf.describe()"
   ]
  },
  {
   "cell_type": "code",
   "execution_count": null,
   "metadata": {},
   "outputs": [],
   "source": [
    "targetsDf.plot(y='Log Density', kind='box')\n",
    "plt.ylabel('Log Density')\n",
    "plt.show()"
   ]
  },
  {
   "cell_type": "code",
   "execution_count": null,
   "metadata": {},
   "outputs": [],
   "source": [
    "ids"
   ]
  },
  {
   "cell_type": "code",
   "execution_count": null,
   "metadata": {},
   "outputs": [],
   "source": [
    "otherVenues = []\n",
    "for (lt, lg) in g:\n",
    "    print((lt, lg))\n",
    "    venues = getNearbyVenues(lt, lg, tick * 1000)\n",
    "    for (v_id, name, distance, category) in venues:\n",
    "        if not (v_id in ids) and category != 'None' and distance < tick * 1000 :\n",
    "            otherVenues.append((lt, lg, v_id, name, distance, category))"
   ]
  },
  {
   "cell_type": "code",
   "execution_count": null,
   "metadata": {},
   "outputs": [],
   "source": [
    "otherVenuesDf = pd.DataFrame(otherVenues)\n",
    "otherVenuesDf.columns = ['Latitude', 'Longitude', 'VenueID', 'Name', 'Distance', 'Category']\n",
    "otherVenuesDf.set_index(['Latitude', 'Longitude'], inplace=True)\n",
    "otherVenuesDf.sort_index(inplace=True)\n",
    "otherVenuesDf"
   ]
  },
  {
   "cell_type": "code",
   "execution_count": null,
   "metadata": {},
   "outputs": [],
   "source": [
    "otherVenuesDf['Density'] = (tick * 1000) - otherVenuesDf['Distance']\n",
    "otherVenuesDf"
   ]
  },
  {
   "cell_type": "code",
   "execution_count": null,
   "metadata": {},
   "outputs": [],
   "source": [
    "features = pd.pivot_table(otherVenuesDf,index=['Latitude', 'Longitude'],values='Density',\n",
    "                          columns='Category',aggfunc=[np.sum],fill_value=0)['sum']"
   ]
  },
  {
   "cell_type": "code",
   "execution_count": null,
   "metadata": {},
   "outputs": [],
   "source": [
    "features.info()"
   ]
  },
  {
   "cell_type": "code",
   "execution_count": null,
   "metadata": {},
   "outputs": [],
   "source": [
    "features"
   ]
  },
  {
   "cell_type": "code",
   "execution_count": null,
   "metadata": {},
   "outputs": [],
   "source": [
    "features.describe()"
   ]
  },
  {
   "cell_type": "code",
   "execution_count": null,
   "metadata": {},
   "outputs": [],
   "source": [
    "features = np.log10(features + 1)"
   ]
  },
  {
   "cell_type": "code",
   "execution_count": null,
   "metadata": {},
   "outputs": [],
   "source": [
    "features.describe()"
   ]
  },
  {
   "cell_type": "code",
   "execution_count": null,
   "metadata": {
    "scrolled": true
   },
   "outputs": [],
   "source": [
    "features = features.join(targetsDf).fillna(0).reset_index()"
   ]
  },
  {
   "cell_type": "code",
   "execution_count": null,
   "metadata": {},
   "outputs": [],
   "source": [
    "features.describe()"
   ]
  },
  {
   "cell_type": "code",
   "execution_count": null,
   "metadata": {},
   "outputs": [],
   "source": [
    "X = features.drop(['Latitude', 'Longitude', 'Density', 'Log Density'], axis=1)\n",
    "y = features['Log Density']"
   ]
  },
  {
   "cell_type": "code",
   "execution_count": null,
   "metadata": {},
   "outputs": [],
   "source": [
    "X_train, X_test, y_train, y_test = train_test_split(X, y, test_size = 0.3, random_state=22)"
   ]
  },
  {
   "cell_type": "code",
   "execution_count": null,
   "metadata": {},
   "outputs": [],
   "source": [
    "reg_all = linear_model.LinearRegression()\n",
    "reg_all.fit(X_train, y_train)\n",
    "y_pred_test = reg_all.predict(X_test)\n",
    "y_pred_train = reg_all.predict(X_train)\n",
    "reg_all.score(X_test, y_test)"
   ]
  },
  {
   "cell_type": "code",
   "execution_count": null,
   "metadata": {},
   "outputs": [],
   "source": [
    "testDf = y_test.to_frame()\n",
    "testDf['Predicted'] = y_pred_test\n",
    "testDf.plot(kind='box')\n",
    "plt.show()"
   ]
  },
  {
   "cell_type": "code",
   "execution_count": null,
   "metadata": {
    "scrolled": true
   },
   "outputs": [],
   "source": [
    "testDf.describe()"
   ]
  },
  {
   "cell_type": "code",
   "execution_count": null,
   "metadata": {},
   "outputs": [],
   "source": [
    "plt.scatter(y_test, y_pred_test, color='blue', label='Test')\n",
    "plt.scatter(y_train, y_pred_train, color='red', label='Training')\n",
    "plt.xlabel('Actual')\n",
    "plt.ylabel('Predicted')\n",
    "plt.legend(loc='upper left')\n",
    "plt.show()"
   ]
  },
  {
   "cell_type": "code",
   "execution_count": null,
   "metadata": {},
   "outputs": [],
   "source": [
    "lasso = linear_model.Lasso(alpha=0.005, normalize=True)\n",
    "lasso.fit(X_train, y_train)\n",
    "lasso_pred_test = lasso.predict(X_test)\n",
    "lasso_pred_train = lasso.predict(X_train)\n",
    "lasso.score(X_test, y_test)"
   ]
  },
  {
   "cell_type": "code",
   "execution_count": null,
   "metadata": {
    "scrolled": true
   },
   "outputs": [],
   "source": [
    "testDf = y_test.to_frame()\n",
    "testDf['Predicted'] = lasso_pred_test\n",
    "testDf.plot(kind='box')\n",
    "plt.show()"
   ]
  },
  {
   "cell_type": "code",
   "execution_count": null,
   "metadata": {},
   "outputs": [],
   "source": [
    "plt.scatter(y_test, lasso_pred_test, color='blue', label='Test')\n",
    "plt.scatter(y_train, lasso_pred_train, color='red', label='Training')\n",
    "plt.xlabel('Actual')\n",
    "plt.ylabel('Predicted')\n",
    "plt.legend(loc='upper left')\n",
    "plt.show()"
   ]
  },
  {
   "cell_type": "code",
   "execution_count": null,
   "metadata": {},
   "outputs": [],
   "source": [
    "lasso_pred_all = lasso.predict(X)"
   ]
  },
  {
   "cell_type": "code",
   "execution_count": null,
   "metadata": {},
   "outputs": [],
   "source": [
    "plt.scatter(y, lasso_pred_all, color='green')\n",
    "plt.show()"
   ]
  },
  {
   "cell_type": "code",
   "execution_count": null,
   "metadata": {},
   "outputs": [],
   "source": [
    "len(lasso_pred_all)"
   ]
  },
  {
   "cell_type": "code",
   "execution_count": null,
   "metadata": {},
   "outputs": [],
   "source": [
    "results = features[['Latitude', 'Longitude', 'Log Density']]"
   ]
  },
  {
   "cell_type": "code",
   "execution_count": null,
   "metadata": {},
   "outputs": [],
   "source": [
    "results['Predicted'] = lasso_pred_all"
   ]
  },
  {
   "cell_type": "code",
   "execution_count": null,
   "metadata": {},
   "outputs": [],
   "source": [
    "plt.scatter(results['Log Density'], results['Predicted'], color='green')\n",
    "plt.show()"
   ]
  },
  {
   "cell_type": "code",
   "execution_count": null,
   "metadata": {},
   "outputs": [],
   "source": [
    "results['Rank'] = results['Predicted'] / (results['Log Density'] + 1)"
   ]
  },
  {
   "cell_type": "code",
   "execution_count": null,
   "metadata": {},
   "outputs": [],
   "source": [
    "top10 = results.sort_values(by='Rank', ascending=False).head(10)\n",
    "top10"
   ]
  },
  {
   "cell_type": "code",
   "execution_count": null,
   "metadata": {},
   "outputs": [],
   "source": [
    "l = list(zip(top10['Latitude'], top10['Longitude']))\n",
    "l"
   ]
  },
  {
   "cell_type": "code",
   "execution_count": null,
   "metadata": {},
   "outputs": [],
   "source": [
    "# create map\n",
    "map_grid = folium.Map(location=[lat, long], zoom_start=13)\n",
    "\n",
    "for (lt, lg) in l:\n",
    "    folium.CircleMarker([lt, lg],\n",
    "                        radius=4,\n",
    "                        fill=True,\n",
    "                        fill_opacity=0.5,\n",
    "                        color='Red').add_to(map_grid)\n",
    "       \n",
    "map_grid"
   ]
  },
  {
   "cell_type": "code",
   "execution_count": null,
   "metadata": {},
   "outputs": [],
   "source": []
  }
 ],
 "metadata": {
  "kernelspec": {
   "display_name": "Python 3",
   "language": "python",
   "name": "python3"
  },
  "language_info": {
   "codemirror_mode": {
    "name": "ipython",
    "version": 3
   },
   "file_extension": ".py",
   "mimetype": "text/x-python",
   "name": "python",
   "nbconvert_exporter": "python",
   "pygments_lexer": "ipython3",
   "version": "3.6.4"
  }
 },
 "nbformat": 4,
 "nbformat_minor": 2
}
