{
 "cells": [
  {
   "cell_type": "markdown",
   "metadata": {},
   "source": [
    "Import required packages"
   ]
  },
  {
   "cell_type": "code",
   "execution_count": 1,
   "metadata": {},
   "outputs": [],
   "source": [
    "import pandas as pd\n",
    "import numpy as np\n",
    "from geopy.geocoders import Nominatim\n",
    "from geopy import distance\n",
    "import folium\n",
    "import requests\n",
    "from sklearn import linear_model\n",
    "from sklearn.model_selection import train_test_split\n",
    "import matplotlib.pyplot as plt\n",
    "\n",
    "# tranforming json file into a pandas dataframe library\n",
    "from pandas.io.json import json_normalize"
   ]
  },
  {
   "cell_type": "markdown",
   "metadata": {},
   "source": [
    "Import Foursquare credentials from json file created to preserve secrecy and store in global variables CLIENT_ID and CLIENT_SECRET"
   ]
  },
  {
   "cell_type": "code",
   "execution_count": 2,
   "metadata": {},
   "outputs": [],
   "source": [
    "import json\n",
    "globals().update(json.loads(open(\"foursquareCredentials.json\", \"r\") .read()))\n",
    "VERSION = '20181124' # Foursquare API version"
   ]
  },
  {
   "cell_type": "markdown",
   "metadata": {},
   "source": [
    "## Input the variables that define the problem\n",
    "Get longitude and latitude of location where we want to open a new business"
   ]
  },
  {
   "cell_type": "code",
   "execution_count": 3,
   "metadata": {},
   "outputs": [],
   "source": [
    "geolocator = Nominatim(user_agent=\"specify_your_app_name_here\")\n",
    "location = geolocator.geocode(\"Toronto\")\n",
    "#location = geolocator.geocode(\"st dunstans st, canterbury uk\")\n",
    "lat = location.latitude\n",
    "long = location.longitude"
   ]
  },
  {
   "cell_type": "markdown",
   "metadata": {},
   "source": [
    "Populate variables containing the other parameters of the search problem:\n",
    "* categoryId = foursquare categoryId of the business we wish to open. A full list of categories can be found here: https://developer.foursquare.com/docs/resources/categories.\n",
    "* radius = the maximum distance from the location within which we want to open the business in km.\n",
    "* tick = the level of accuracy in km which we want to return for the recommended locations. "
   ]
  },
  {
   "cell_type": "code",
   "execution_count": 4,
   "metadata": {},
   "outputs": [],
   "source": [
    "categoryId = '4bf58dd8d48988d16d941735' # Café\n",
    "radius = 1\n",
    "tick = 0.2"
   ]
  },
  {
   "cell_type": "markdown",
   "metadata": {},
   "source": [
    "## Build function which pulls venue data from Foursquare\n",
    "Define function for pulling list of nearby venues, with optional filter on category Id"
   ]
  },
  {
   "cell_type": "code",
   "execution_count": 5,
   "metadata": {},
   "outputs": [
    {
     "data": {
      "text/html": [
       "<div>\n",
       "<style scoped>\n",
       "    .dataframe tbody tr th:only-of-type {\n",
       "        vertical-align: middle;\n",
       "    }\n",
       "\n",
       "    .dataframe tbody tr th {\n",
       "        vertical-align: top;\n",
       "    }\n",
       "\n",
       "    .dataframe thead th {\n",
       "        text-align: right;\n",
       "    }\n",
       "</style>\n",
       "<table border=\"1\" class=\"dataframe\">\n",
       "  <thead>\n",
       "    <tr style=\"text-align: right;\">\n",
       "      <th></th>\n",
       "    </tr>\n",
       "  </thead>\n",
       "  <tbody>\n",
       "  </tbody>\n",
       "</table>\n",
       "</div>"
      ],
      "text/plain": [
       "Empty DataFrame\n",
       "Columns: []\n",
       "Index: []"
      ]
     },
     "execution_count": 5,
     "metadata": {},
     "output_type": "execute_result"
    }
   ],
   "source": [
    "url = 'https://api.foursquare.com/v2/venues/search?&client_id={}&client_secret={}&v={}&intent=browse&ll={},{}&radius={}&categoryId={}'\n",
    "apiCall = url.format(CLIENT_ID, CLIENT_SECRET, VERSION, lat, long, radius, categoryId)\n",
    "venues = requests.get(apiCall).json()['response']['venues']\n",
    "dataframe = json_normalize(venues)\n",
    "dataframe.head()"
   ]
  },
  {
   "cell_type": "code",
   "execution_count": 6,
   "metadata": {},
   "outputs": [
    {
     "data": {
      "text/plain": [
       "{'meta': {'code': 200, 'requestId': '5c0d0108dd57971cf7bc7d18'},\n",
       " 'response': {'venues': []}}"
      ]
     },
     "execution_count": 6,
     "metadata": {},
     "output_type": "execute_result"
    }
   ],
   "source": [
    "requests.get(apiCall).json()"
   ]
  },
  {
   "cell_type": "code",
   "execution_count": 7,
   "metadata": {},
   "outputs": [],
   "source": [
    "url = 'https://api.foursquare.com/v2/venues/search?&client_id={}&client_secret={}&v={}&intent=browse&ll={},{}&radius={}&categoryId={}'\n",
    "def getNearbyVenues(lat, long, radius, categoryId = ''):\n",
    "    apiCall = url.format(CLIENT_ID, CLIENT_SECRET, VERSION, lat, long, radius, categoryId)\n",
    "    venues = requests.get(apiCall).json()['response']['venues']\n",
    "    venues_list=[]\n",
    "    \n",
    "    for v in venues:\n",
    "        if len(v['categories']) > 0:\n",
    "            venues_list.append([v['id'], v['name'], v['location']['distance'], v['categories'][0]['name']])\n",
    "        else:\n",
    "            venues_list.append([v['id'], v['name'], v['location']['distance'], 'None'])\n",
    "    \n",
    "    return(venues_list)"
   ]
  },
  {
   "cell_type": "markdown",
   "metadata": {},
   "source": [
    "Check function getNearbyVenues is working"
   ]
  },
  {
   "cell_type": "code",
   "execution_count": 8,
   "metadata": {
    "scrolled": true
   },
   "outputs": [
    {
     "data": {
      "text/plain": [
       "[['4f513029e4b07c3382c9fdb9', 'Cafe Plenty', 192, 'Café'],\n",
       " ['4b59d414f964a5208f9a28e3', \"Java Joe's\", 154, 'Café'],\n",
       " ['4b0d2ef1f964a520664423e3', 'Avenue Café + Bistro', 179, 'Sandwich Place'],\n",
       " ['5706b570498e618216dbfd32',\n",
       "  \"Uncle Tetsu's Japanese Angel Cafe\",\n",
       "  118,\n",
       "  'Café'],\n",
       " ['4bd8dd55cc5b95215c3af24f', 'Bistro 438', 111, 'Bistro'],\n",
       " ['50b77ec7e4b08ecf5a78a68f', 'Urbana Coffee Co.', 148, 'Café'],\n",
       " ['58e716e5fa7ed04f61194722', 'Café De Paris, Downtown Toronto', 102, 'Café'],\n",
       " ['50046391e4b025b2598516f3', 'Coffee Antidote 9th Floor', 125, 'Café'],\n",
       " ['51bd60fa498e5ce3f52c6016', 'Prince Cafe', 106, 'Café']]"
      ]
     },
     "execution_count": 8,
     "metadata": {},
     "output_type": "execute_result"
    }
   ],
   "source": [
    "getNearbyVenues(lat, long, tick * 1000, categoryId)"
   ]
  },
  {
   "cell_type": "code",
   "execution_count": 11,
   "metadata": {},
   "outputs": [
    {
     "data": {
      "text/html": [
       "<div>\n",
       "<style scoped>\n",
       "    .dataframe tbody tr th:only-of-type {\n",
       "        vertical-align: middle;\n",
       "    }\n",
       "\n",
       "    .dataframe tbody tr th {\n",
       "        vertical-align: top;\n",
       "    }\n",
       "\n",
       "    .dataframe thead th {\n",
       "        text-align: right;\n",
       "    }\n",
       "</style>\n",
       "<table border=\"1\" class=\"dataframe\">\n",
       "  <thead>\n",
       "    <tr style=\"text-align: right;\">\n",
       "      <th></th>\n",
       "      <th>categories</th>\n",
       "      <th>hasPerk</th>\n",
       "      <th>id</th>\n",
       "      <th>location.address</th>\n",
       "      <th>location.cc</th>\n",
       "      <th>location.city</th>\n",
       "      <th>location.country</th>\n",
       "      <th>location.crossStreet</th>\n",
       "      <th>location.distance</th>\n",
       "      <th>location.formattedAddress</th>\n",
       "      <th>location.labeledLatLngs</th>\n",
       "      <th>location.lat</th>\n",
       "      <th>location.lng</th>\n",
       "      <th>location.postalCode</th>\n",
       "      <th>location.state</th>\n",
       "      <th>name</th>\n",
       "      <th>referralId</th>\n",
       "    </tr>\n",
       "  </thead>\n",
       "  <tbody>\n",
       "    <tr>\n",
       "      <th>0</th>\n",
       "      <td>[{'id': '4bf58dd8d48988d16d941735', 'name': 'C...</td>\n",
       "      <td>False</td>\n",
       "      <td>4f513029e4b07c3382c9fdb9</td>\n",
       "      <td>250 Dundas Street West</td>\n",
       "      <td>CA</td>\n",
       "      <td>Toronto</td>\n",
       "      <td>Canada</td>\n",
       "      <td>Simcoe Street</td>\n",
       "      <td>192</td>\n",
       "      <td>[250 Dundas Street West (Simcoe Street), Toron...</td>\n",
       "      <td>[{'label': 'display', 'lat': 43.65457125894357...</td>\n",
       "      <td>43.654571</td>\n",
       "      <td>-79.389450</td>\n",
       "      <td>M5T 2Z5</td>\n",
       "      <td>ON</td>\n",
       "      <td>Cafe Plenty</td>\n",
       "      <td>v-1544356294</td>\n",
       "    </tr>\n",
       "    <tr>\n",
       "      <th>1</th>\n",
       "      <td>[{'id': '4bf58dd8d48988d16d941735', 'name': 'C...</td>\n",
       "      <td>False</td>\n",
       "      <td>4b59d414f964a5208f9a28e3</td>\n",
       "      <td>180 Dundas St. W.</td>\n",
       "      <td>CA</td>\n",
       "      <td>Toronto</td>\n",
       "      <td>Canada</td>\n",
       "      <td>at Edward</td>\n",
       "      <td>154</td>\n",
       "      <td>[180 Dundas St. W. (at Edward), Toronto ON M5G...</td>\n",
       "      <td>[{'label': 'display', 'lat': 43.65520124130076...</td>\n",
       "      <td>43.655201</td>\n",
       "      <td>-79.386333</td>\n",
       "      <td>M5G 1Z8</td>\n",
       "      <td>ON</td>\n",
       "      <td>Java Joe's</td>\n",
       "      <td>v-1544356294</td>\n",
       "    </tr>\n",
       "    <tr>\n",
       "      <th>2</th>\n",
       "      <td>[{'id': '4bf58dd8d48988d1c5941735', 'name': 'S...</td>\n",
       "      <td>False</td>\n",
       "      <td>4b0d2ef1f964a520664423e3</td>\n",
       "      <td>480 University Ave</td>\n",
       "      <td>CA</td>\n",
       "      <td>Toronto</td>\n",
       "      <td>Canada</td>\n",
       "      <td>at Dundas St W</td>\n",
       "      <td>179</td>\n",
       "      <td>[480 University Ave (at Dundas St W), Toronto ...</td>\n",
       "      <td>[{'label': 'display', 'lat': 43.65511700442771...</td>\n",
       "      <td>43.655117</td>\n",
       "      <td>-79.388764</td>\n",
       "      <td>M5G 1V2</td>\n",
       "      <td>ON</td>\n",
       "      <td>Avenue Café + Bistro</td>\n",
       "      <td>v-1544356294</td>\n",
       "    </tr>\n",
       "    <tr>\n",
       "      <th>3</th>\n",
       "      <td>[{'id': '4bf58dd8d48988d16d941735', 'name': 'C...</td>\n",
       "      <td>False</td>\n",
       "      <td>5706b570498e618216dbfd32</td>\n",
       "      <td>191 Dundas St. West</td>\n",
       "      <td>CA</td>\n",
       "      <td>Toronto</td>\n",
       "      <td>Canada</td>\n",
       "      <td>At Centre Ave.</td>\n",
       "      <td>118</td>\n",
       "      <td>[191 Dundas St. West (At Centre Ave.), Toronto...</td>\n",
       "      <td>[{'label': 'display', 'lat': 43.65500131144402...</td>\n",
       "      <td>43.655001</td>\n",
       "      <td>-79.386899</td>\n",
       "      <td>NaN</td>\n",
       "      <td>ON</td>\n",
       "      <td>Uncle Tetsu's Japanese Angel Cafe</td>\n",
       "      <td>v-1544356294</td>\n",
       "    </tr>\n",
       "    <tr>\n",
       "      <th>4</th>\n",
       "      <td>[{'id': '52e81612bcbc57f1066b79f1', 'name': 'B...</td>\n",
       "      <td>False</td>\n",
       "      <td>4bd8dd55cc5b95215c3af24f</td>\n",
       "      <td>438 University Avenue</td>\n",
       "      <td>CA</td>\n",
       "      <td>Toronto</td>\n",
       "      <td>Canada</td>\n",
       "      <td>Dundas Street West</td>\n",
       "      <td>111</td>\n",
       "      <td>[438 University Avenue (Dundas Street West), T...</td>\n",
       "      <td>[{'label': 'display', 'lat': 43.6543883919314,...</td>\n",
       "      <td>43.654388</td>\n",
       "      <td>-79.388457</td>\n",
       "      <td>NaN</td>\n",
       "      <td>ON</td>\n",
       "      <td>Bistro 438</td>\n",
       "      <td>v-1544356294</td>\n",
       "    </tr>\n",
       "    <tr>\n",
       "      <th>5</th>\n",
       "      <td>[{'id': '4bf58dd8d48988d16d941735', 'name': 'C...</td>\n",
       "      <td>False</td>\n",
       "      <td>50b77ec7e4b08ecf5a78a68f</td>\n",
       "      <td>Toronto</td>\n",
       "      <td>CA</td>\n",
       "      <td>Toronto</td>\n",
       "      <td>Canada</td>\n",
       "      <td>NaN</td>\n",
       "      <td>148</td>\n",
       "      <td>[Toronto, Toronto ON, Canada]</td>\n",
       "      <td>[{'label': 'display', 'lat': 43.65322456230742...</td>\n",
       "      <td>43.653225</td>\n",
       "      <td>-79.388749</td>\n",
       "      <td>NaN</td>\n",
       "      <td>ON</td>\n",
       "      <td>Urbana Coffee Co.</td>\n",
       "      <td>v-1544356294</td>\n",
       "    </tr>\n",
       "    <tr>\n",
       "      <th>6</th>\n",
       "      <td>[{'id': '4bf58dd8d48988d16d941735', 'name': 'C...</td>\n",
       "      <td>False</td>\n",
       "      <td>58e716e5fa7ed04f61194722</td>\n",
       "      <td>201 Dundas St W</td>\n",
       "      <td>CA</td>\n",
       "      <td>Toronto</td>\n",
       "      <td>Canada</td>\n",
       "      <td>NaN</td>\n",
       "      <td>102</td>\n",
       "      <td>[201 Dundas St W, Toronto ON M5G 1C8, Canada]</td>\n",
       "      <td>[{'label': 'display', 'lat': 43.654872, 'lng':...</td>\n",
       "      <td>43.654872</td>\n",
       "      <td>-79.387429</td>\n",
       "      <td>M5G 1C8</td>\n",
       "      <td>ON</td>\n",
       "      <td>Café De Paris, Downtown Toronto</td>\n",
       "      <td>v-1544356294</td>\n",
       "    </tr>\n",
       "    <tr>\n",
       "      <th>7</th>\n",
       "      <td>[{'id': '4bf58dd8d48988d16d941735', 'name': 'C...</td>\n",
       "      <td>False</td>\n",
       "      <td>50046391e4b025b2598516f3</td>\n",
       "      <td>NaN</td>\n",
       "      <td>CA</td>\n",
       "      <td>NaN</td>\n",
       "      <td>Canada</td>\n",
       "      <td>NaN</td>\n",
       "      <td>125</td>\n",
       "      <td>[Canada]</td>\n",
       "      <td>[{'label': 'display', 'lat': 43.65436014476997...</td>\n",
       "      <td>43.654360</td>\n",
       "      <td>-79.388666</td>\n",
       "      <td>NaN</td>\n",
       "      <td>NaN</td>\n",
       "      <td>Coffee Antidote 9th Floor</td>\n",
       "      <td>v-1544356294</td>\n",
       "    </tr>\n",
       "    <tr>\n",
       "      <th>8</th>\n",
       "      <td>[{'id': '4bf58dd8d48988d16d941735', 'name': 'C...</td>\n",
       "      <td>False</td>\n",
       "      <td>51bd60fa498e5ce3f52c6016</td>\n",
       "      <td>442 Dundas St W</td>\n",
       "      <td>CA</td>\n",
       "      <td>Toronto</td>\n",
       "      <td>Canada</td>\n",
       "      <td>NaN</td>\n",
       "      <td>106</td>\n",
       "      <td>[442 Dundas St W, Toronto ON, Canada]</td>\n",
       "      <td>[{'label': 'display', 'lat': 43.654916, 'lng':...</td>\n",
       "      <td>43.654916</td>\n",
       "      <td>-79.387351</td>\n",
       "      <td>NaN</td>\n",
       "      <td>ON</td>\n",
       "      <td>Prince Cafe</td>\n",
       "      <td>v-1544356294</td>\n",
       "    </tr>\n",
       "  </tbody>\n",
       "</table>\n",
       "</div>"
      ],
      "text/plain": [
       "                                          categories  hasPerk  \\\n",
       "0  [{'id': '4bf58dd8d48988d16d941735', 'name': 'C...    False   \n",
       "1  [{'id': '4bf58dd8d48988d16d941735', 'name': 'C...    False   \n",
       "2  [{'id': '4bf58dd8d48988d1c5941735', 'name': 'S...    False   \n",
       "3  [{'id': '4bf58dd8d48988d16d941735', 'name': 'C...    False   \n",
       "4  [{'id': '52e81612bcbc57f1066b79f1', 'name': 'B...    False   \n",
       "5  [{'id': '4bf58dd8d48988d16d941735', 'name': 'C...    False   \n",
       "6  [{'id': '4bf58dd8d48988d16d941735', 'name': 'C...    False   \n",
       "7  [{'id': '4bf58dd8d48988d16d941735', 'name': 'C...    False   \n",
       "8  [{'id': '4bf58dd8d48988d16d941735', 'name': 'C...    False   \n",
       "\n",
       "                         id        location.address location.cc location.city  \\\n",
       "0  4f513029e4b07c3382c9fdb9  250 Dundas Street West          CA       Toronto   \n",
       "1  4b59d414f964a5208f9a28e3       180 Dundas St. W.          CA       Toronto   \n",
       "2  4b0d2ef1f964a520664423e3      480 University Ave          CA       Toronto   \n",
       "3  5706b570498e618216dbfd32     191 Dundas St. West          CA       Toronto   \n",
       "4  4bd8dd55cc5b95215c3af24f   438 University Avenue          CA       Toronto   \n",
       "5  50b77ec7e4b08ecf5a78a68f                 Toronto          CA       Toronto   \n",
       "6  58e716e5fa7ed04f61194722         201 Dundas St W          CA       Toronto   \n",
       "7  50046391e4b025b2598516f3                     NaN          CA           NaN   \n",
       "8  51bd60fa498e5ce3f52c6016         442 Dundas St W          CA       Toronto   \n",
       "\n",
       "  location.country location.crossStreet  location.distance  \\\n",
       "0           Canada        Simcoe Street                192   \n",
       "1           Canada            at Edward                154   \n",
       "2           Canada       at Dundas St W                179   \n",
       "3           Canada       At Centre Ave.                118   \n",
       "4           Canada   Dundas Street West                111   \n",
       "5           Canada                  NaN                148   \n",
       "6           Canada                  NaN                102   \n",
       "7           Canada                  NaN                125   \n",
       "8           Canada                  NaN                106   \n",
       "\n",
       "                           location.formattedAddress  \\\n",
       "0  [250 Dundas Street West (Simcoe Street), Toron...   \n",
       "1  [180 Dundas St. W. (at Edward), Toronto ON M5G...   \n",
       "2  [480 University Ave (at Dundas St W), Toronto ...   \n",
       "3  [191 Dundas St. West (At Centre Ave.), Toronto...   \n",
       "4  [438 University Avenue (Dundas Street West), T...   \n",
       "5                      [Toronto, Toronto ON, Canada]   \n",
       "6      [201 Dundas St W, Toronto ON M5G 1C8, Canada]   \n",
       "7                                           [Canada]   \n",
       "8              [442 Dundas St W, Toronto ON, Canada]   \n",
       "\n",
       "                             location.labeledLatLngs  location.lat  \\\n",
       "0  [{'label': 'display', 'lat': 43.65457125894357...     43.654571   \n",
       "1  [{'label': 'display', 'lat': 43.65520124130076...     43.655201   \n",
       "2  [{'label': 'display', 'lat': 43.65511700442771...     43.655117   \n",
       "3  [{'label': 'display', 'lat': 43.65500131144402...     43.655001   \n",
       "4  [{'label': 'display', 'lat': 43.6543883919314,...     43.654388   \n",
       "5  [{'label': 'display', 'lat': 43.65322456230742...     43.653225   \n",
       "6  [{'label': 'display', 'lat': 43.654872, 'lng':...     43.654872   \n",
       "7  [{'label': 'display', 'lat': 43.65436014476997...     43.654360   \n",
       "8  [{'label': 'display', 'lat': 43.654916, 'lng':...     43.654916   \n",
       "\n",
       "   location.lng location.postalCode location.state  \\\n",
       "0    -79.389450             M5T 2Z5             ON   \n",
       "1    -79.386333             M5G 1Z8             ON   \n",
       "2    -79.388764             M5G 1V2             ON   \n",
       "3    -79.386899                 NaN             ON   \n",
       "4    -79.388457                 NaN             ON   \n",
       "5    -79.388749                 NaN             ON   \n",
       "6    -79.387429             M5G 1C8             ON   \n",
       "7    -79.388666                 NaN            NaN   \n",
       "8    -79.387351                 NaN             ON   \n",
       "\n",
       "                                name    referralId  \n",
       "0                        Cafe Plenty  v-1544356294  \n",
       "1                         Java Joe's  v-1544356294  \n",
       "2               Avenue Café + Bistro  v-1544356294  \n",
       "3  Uncle Tetsu's Japanese Angel Cafe  v-1544356294  \n",
       "4                         Bistro 438  v-1544356294  \n",
       "5                  Urbana Coffee Co.  v-1544356294  \n",
       "6    Café De Paris, Downtown Toronto  v-1544356294  \n",
       "7          Coffee Antidote 9th Floor  v-1544356294  \n",
       "8                        Prince Cafe  v-1544356294  "
      ]
     },
     "execution_count": 11,
     "metadata": {},
     "output_type": "execute_result"
    }
   ],
   "source": [
    "url = 'https://api.foursquare.com/v2/venues/search?&client_id={}&client_secret={}&v={}&intent=browse&ll={},{}&radius={}&categoryId={}'\n",
    "def getNearbyVenues(lat, long, radius, categoryId = ''):\n",
    "    apiCall = url.format(CLIENT_ID, CLIENT_SECRET, VERSION, lat, long, radius, categoryId)\n",
    "    venues = requests.get(apiCall).json()['response']['venues']\n",
    "    dataframe = json_normalize(venues)\n",
    "    venues_list=[]\n",
    "    for v in venues:\n",
    "        if len(v['categories']) > 0:\n",
    "            venues_list.append([v['id'], v['name'], v['location']['distance'], v['categories'][0]['name']])\n",
    "        else:\n",
    "            venues_list.append([v['id'], v['name'], v['location']['distance'], 'None'])\n",
    "    \n",
    "    return dataframe\n",
    "getNearbyVenues(lat, long, tick * 1000, categoryId)"
   ]
  },
  {
   "cell_type": "markdown",
   "metadata": {},
   "source": [
    "## Build function to calculate density of venues within a specified radius of a location\n",
    "Define function venueDensity which outputs a measure the density of a list of venues within a specific radius of a location.\n",
    "The density measure has the property of being larger the more venues there are in the list and the closer they are.\n",
    "So for each venue we subtract the distance of the venue from the location from the radius.\n",
    "This measure is then summed up for all the venues\n",
    "\n",
    "Worked example, radius = 200m, 2 venues, 1 distance 1m from the location, the other distance 199m:\n",
    "* venue 1 density = 200 - 1 = 199\n",
    "* venue 2 density = 200 - 199 = 1\n",
    "* total density = 199 + 1 = 200"
   ]
  },
  {
   "cell_type": "code",
   "execution_count": null,
   "metadata": {},
   "outputs": [],
   "source": [
    "def venueDensity(venues, radius):\n",
    "    distances = []\n",
    "    [distances.append(radius - v[2]) for v in venues if v[2] < radius]\n",
    "    return np.sum(np.asarray(distances))"
   ]
  },
  {
   "cell_type": "code",
   "execution_count": null,
   "metadata": {},
   "outputs": [],
   "source": [
    "venueDensity(getNearbyVenues(lat, long, tick * 1000, categoryId), tick * 1000)"
   ]
  },
  {
   "cell_type": "code",
   "execution_count": null,
   "metadata": {},
   "outputs": [],
   "source": [
    "# Check if density for empty list of venues = 0\n",
    "venueDensity([], tick * 1000)"
   ]
  },
  {
   "cell_type": "markdown",
   "metadata": {},
   "source": [
    "## Get venue density for each point on the grid around location"
   ]
  },
  {
   "cell_type": "code",
   "execution_count": null,
   "metadata": {},
   "outputs": [],
   "source": [
    "targets = []\n",
    "ids = set()\n",
    "for (lt, lg) in g:\n",
    "    print((lt, lg))\n",
    "    venues = getNearbyVenues(lt, lg, tick * 1000, categoryId)\n",
    "    density = venueDensity(venues, tick * 1000)\n",
    "    targets.append((lt, lg, density))\n",
    "    for (v_id, name, distance, category) in venues:\n",
    "        ids.add(v_id)"
   ]
  },
  {
   "cell_type": "code",
   "execution_count": null,
   "metadata": {},
   "outputs": [],
   "source": []
  },
  {
   "cell_type": "code",
   "execution_count": null,
   "metadata": {},
   "outputs": [],
   "source": [
    "targetsDf = pd.DataFrame(targets)\n",
    "targetsDf.columns = ['Latitude', 'Longitude', 'Density']\n",
    "targetsDf.set_index(['Latitude', 'Longitude'], inplace=True)\n",
    "targetsDf.sort_index(inplace=True)\n",
    "targetsDf"
   ]
  },
  {
   "cell_type": "code",
   "execution_count": null,
   "metadata": {
    "scrolled": true
   },
   "outputs": [],
   "source": [
    "targetsDf.describe()"
   ]
  },
  {
   "cell_type": "code",
   "execution_count": null,
   "metadata": {
    "scrolled": true
   },
   "outputs": [],
   "source": [
    "targetsDf.plot(y='Density', kind='box')\n",
    "plt.ylabel('Density')\n",
    "plt.show()"
   ]
  },
  {
   "cell_type": "code",
   "execution_count": null,
   "metadata": {},
   "outputs": [],
   "source": [
    "targetsDf['Log Density'] = np.log10(targetsDf['Density'].values + 1)"
   ]
  },
  {
   "cell_type": "code",
   "execution_count": null,
   "metadata": {},
   "outputs": [],
   "source": [
    "targetsDf.describe()"
   ]
  },
  {
   "cell_type": "code",
   "execution_count": null,
   "metadata": {},
   "outputs": [],
   "source": [
    "targetsDf.plot(y='Log Density', kind='box')\n",
    "plt.ylabel('Log Density')\n",
    "plt.show()"
   ]
  },
  {
   "cell_type": "code",
   "execution_count": null,
   "metadata": {},
   "outputs": [],
   "source": [
    "ids"
   ]
  },
  {
   "cell_type": "code",
   "execution_count": null,
   "metadata": {},
   "outputs": [],
   "source": [
    "otherVenues = []\n",
    "for (lt, lg) in g:\n",
    "    print((lt, lg))\n",
    "    venues = getNearbyVenues(lt, lg, tick * 1000)\n",
    "    for (v_id, name, distance, category) in venues:\n",
    "        if not (v_id in ids) and category != 'None' and distance < tick * 1000 :\n",
    "            otherVenues.append((lt, lg, v_id, name, distance, category))"
   ]
  },
  {
   "cell_type": "code",
   "execution_count": null,
   "metadata": {},
   "outputs": [],
   "source": [
    "otherVenuesDf = pd.DataFrame(otherVenues)\n",
    "otherVenuesDf.columns = ['Latitude', 'Longitude', 'VenueID', 'Name', 'Distance', 'Category']\n",
    "otherVenuesDf.set_index(['Latitude', 'Longitude'], inplace=True)\n",
    "otherVenuesDf.sort_index(inplace=True)\n",
    "otherVenuesDf"
   ]
  },
  {
   "cell_type": "code",
   "execution_count": null,
   "metadata": {},
   "outputs": [],
   "source": [
    "otherVenuesDf['Density'] = (tick * 1000) - otherVenuesDf['Distance']\n",
    "otherVenuesDf"
   ]
  },
  {
   "cell_type": "code",
   "execution_count": null,
   "metadata": {},
   "outputs": [],
   "source": [
    "features = pd.pivot_table(otherVenuesDf,index=['Latitude', 'Longitude'],values='Density',\n",
    "                          columns='Category',aggfunc=[np.sum],fill_value=0)['sum']"
   ]
  },
  {
   "cell_type": "code",
   "execution_count": null,
   "metadata": {},
   "outputs": [],
   "source": [
    "features.info()"
   ]
  },
  {
   "cell_type": "code",
   "execution_count": null,
   "metadata": {},
   "outputs": [],
   "source": [
    "features"
   ]
  },
  {
   "cell_type": "code",
   "execution_count": null,
   "metadata": {},
   "outputs": [],
   "source": [
    "features.describe()"
   ]
  },
  {
   "cell_type": "code",
   "execution_count": null,
   "metadata": {},
   "outputs": [],
   "source": [
    "features = np.log10(features + 1)"
   ]
  },
  {
   "cell_type": "code",
   "execution_count": null,
   "metadata": {},
   "outputs": [],
   "source": [
    "features.describe()"
   ]
  },
  {
   "cell_type": "code",
   "execution_count": null,
   "metadata": {
    "scrolled": true
   },
   "outputs": [],
   "source": [
    "features = features.join(targetsDf).fillna(0).reset_index()"
   ]
  },
  {
   "cell_type": "code",
   "execution_count": null,
   "metadata": {},
   "outputs": [],
   "source": [
    "features.describe()"
   ]
  },
  {
   "cell_type": "code",
   "execution_count": null,
   "metadata": {},
   "outputs": [],
   "source": [
    "X = features.drop(['Latitude', 'Longitude', 'Density', 'Log Density'], axis=1)\n",
    "y = features['Log Density']"
   ]
  },
  {
   "cell_type": "code",
   "execution_count": null,
   "metadata": {},
   "outputs": [],
   "source": [
    "X_train, X_test, y_train, y_test = train_test_split(X, y, test_size = 0.3, random_state=22)"
   ]
  },
  {
   "cell_type": "code",
   "execution_count": null,
   "metadata": {},
   "outputs": [],
   "source": [
    "reg_all = linear_model.LinearRegression()\n",
    "reg_all.fit(X_train, y_train)\n",
    "y_pred_test = reg_all.predict(X_test)\n",
    "y_pred_train = reg_all.predict(X_train)\n",
    "reg_all.score(X_test, y_test)"
   ]
  },
  {
   "cell_type": "code",
   "execution_count": null,
   "metadata": {},
   "outputs": [],
   "source": [
    "testDf = y_test.to_frame()\n",
    "testDf['Predicted'] = y_pred_test\n",
    "testDf.plot(kind='box')\n",
    "plt.show()"
   ]
  },
  {
   "cell_type": "code",
   "execution_count": null,
   "metadata": {
    "scrolled": true
   },
   "outputs": [],
   "source": [
    "testDf.describe()"
   ]
  },
  {
   "cell_type": "code",
   "execution_count": null,
   "metadata": {},
   "outputs": [],
   "source": [
    "plt.scatter(y_test, y_pred_test, color='blue', label='Test')\n",
    "plt.scatter(y_train, y_pred_train, color='red', label='Training')\n",
    "plt.xlabel('Actual')\n",
    "plt.ylabel('Predicted')\n",
    "plt.legend(loc='upper left')\n",
    "plt.show()"
   ]
  },
  {
   "cell_type": "code",
   "execution_count": null,
   "metadata": {},
   "outputs": [],
   "source": [
    "lasso = linear_model.Lasso(alpha=0.005, normalize=True)\n",
    "lasso.fit(X_train, y_train)\n",
    "lasso_pred_test = lasso.predict(X_test)\n",
    "lasso_pred_train = lasso.predict(X_train)\n",
    "lasso.score(X_test, y_test)"
   ]
  },
  {
   "cell_type": "code",
   "execution_count": null,
   "metadata": {
    "scrolled": true
   },
   "outputs": [],
   "source": [
    "testDf = y_test.to_frame()\n",
    "testDf['Predicted'] = lasso_pred_test\n",
    "testDf.plot(kind='box')\n",
    "plt.show()"
   ]
  },
  {
   "cell_type": "code",
   "execution_count": null,
   "metadata": {},
   "outputs": [],
   "source": [
    "plt.scatter(y_test, lasso_pred_test, color='blue', label='Test')\n",
    "plt.scatter(y_train, lasso_pred_train, color='red', label='Training')\n",
    "plt.xlabel('Actual')\n",
    "plt.ylabel('Predicted')\n",
    "plt.legend(loc='upper left')\n",
    "plt.show()"
   ]
  },
  {
   "cell_type": "code",
   "execution_count": null,
   "metadata": {},
   "outputs": [],
   "source": [
    "lasso_pred_all = lasso.predict(X)"
   ]
  },
  {
   "cell_type": "code",
   "execution_count": null,
   "metadata": {},
   "outputs": [],
   "source": [
    "plt.scatter(y, lasso_pred_all, color='green')\n",
    "plt.show()"
   ]
  },
  {
   "cell_type": "code",
   "execution_count": null,
   "metadata": {},
   "outputs": [],
   "source": [
    "len(lasso_pred_all)"
   ]
  },
  {
   "cell_type": "code",
   "execution_count": null,
   "metadata": {},
   "outputs": [],
   "source": [
    "results = features[['Latitude', 'Longitude', 'Log Density']]"
   ]
  },
  {
   "cell_type": "code",
   "execution_count": null,
   "metadata": {},
   "outputs": [],
   "source": [
    "results['Predicted'] = lasso_pred_all"
   ]
  },
  {
   "cell_type": "code",
   "execution_count": null,
   "metadata": {},
   "outputs": [],
   "source": [
    "plt.scatter(results['Log Density'], results['Predicted'], color='green')\n",
    "plt.show()"
   ]
  },
  {
   "cell_type": "code",
   "execution_count": null,
   "metadata": {},
   "outputs": [],
   "source": [
    "results['Rank'] = results['Predicted'] / (results['Log Density'] + 1)"
   ]
  },
  {
   "cell_type": "code",
   "execution_count": null,
   "metadata": {},
   "outputs": [],
   "source": [
    "top10 = results.sort_values(by='Rank', ascending=False).head(10)\n",
    "top10"
   ]
  },
  {
   "cell_type": "code",
   "execution_count": null,
   "metadata": {},
   "outputs": [],
   "source": [
    "l = list(zip(top10['Latitude'], top10['Longitude']))\n",
    "l"
   ]
  },
  {
   "cell_type": "code",
   "execution_count": null,
   "metadata": {},
   "outputs": [],
   "source": [
    "# create map\n",
    "map_grid = folium.Map(location=[lat, long], zoom_start=13)\n",
    "\n",
    "for (lt, lg) in l:\n",
    "    folium.CircleMarker([lt, lg],\n",
    "                        radius=4,\n",
    "                        fill=True,\n",
    "                        fill_opacity=0.5,\n",
    "                        color='Red').add_to(map_grid)\n",
    "       \n",
    "map_grid"
   ]
  },
  {
   "cell_type": "code",
   "execution_count": null,
   "metadata": {},
   "outputs": [],
   "source": []
  }
 ],
 "metadata": {
  "kernelspec": {
   "display_name": "Python 3",
   "language": "python",
   "name": "python3"
  },
  "language_info": {
   "codemirror_mode": {
    "name": "ipython",
    "version": 3
   },
   "file_extension": ".py",
   "mimetype": "text/x-python",
   "name": "python",
   "nbconvert_exporter": "python",
   "pygments_lexer": "ipython3",
   "version": "3.6.4"
  }
 },
 "nbformat": 4,
 "nbformat_minor": 2
}
